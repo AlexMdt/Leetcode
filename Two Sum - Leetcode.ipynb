{
 "cells": [
  {
   "cell_type": "code",
   "execution_count": null,
   "id": "3f48437c",
   "metadata": {},
   "outputs": [
    {
     "data": {
      "text/plain": [
       "[0, 4]"
      ]
     },
     "execution_count": 55,
     "metadata": {},
     "output_type": "execute_result"
    }
   ],
   "source": [
    "## Using Brutforce method --> Less memory used but higher run time O(n^2) cuz we compare each num to all the nums in the list\n",
    "class Solution:\n",
    "    def twoSum(self, nums: List[int], target: int) -> List[int]:\n",
    "        for i in range(len(nums)):\n",
    "            for j in range(i+1, len(nums)):\n",
    "                if nums[j] == target - nums[i]:\n",
    "                    return [i,j]\n",
    "\n",
    "Solution().twoSum([3,4,9,6,5], 8)"
   ]
  },
  {
   "cell_type": "code",
   "execution_count": 10,
   "id": "ce803bea",
   "metadata": {},
   "outputs": [
    {
     "name": "stdout",
     "output_type": "stream",
     "text": [
      "{1: 0, 2: 1, 3: 2, 5: 4}\n"
     ]
    },
    {
     "data": {
      "text/plain": [
       "[3, 4]"
      ]
     },
     "execution_count": 10,
     "metadata": {},
     "output_type": "execute_result"
    }
   ],
   "source": [
    "## Lowest run time (O(n)) because here we dont need to iterate every num in the list,\n",
    "## First we store them in a hashmap and then we check if there is any complement existing to the,\n",
    "## equation : target = nums[i] + complement\n",
    "from typing import List\n",
    "class Solution:\n",
    "    def twoSum(self, nums: List[int], target: int) -> List[int]:\n",
    "        hashmap = {}\n",
    "        for i in range(len(nums)):\n",
    "            hashmap[nums[i]] = i\n",
    "        print(hashmap)\n",
    "        for i in hashmap:\n",
    "            complement = target - nums[i]\n",
    "            if complement in hashmap and hashmap[complement] != i:\n",
    "                return [i, hashmap[complement]]\n",
    "        return []\n",
    "    \n",
    "Solution().twoSum(nums= [1,2,3,5,5], target= 10)"
   ]
  }
 ],
 "metadata": {
  "kernelspec": {
   "display_name": "base",
   "language": "python",
   "name": "python3"
  },
  "language_info": {
   "codemirror_mode": {
    "name": "ipython",
    "version": 3
   },
   "file_extension": ".py",
   "mimetype": "text/x-python",
   "name": "python",
   "nbconvert_exporter": "python",
   "pygments_lexer": "ipython3",
   "version": "3.12.7"
  }
 },
 "nbformat": 4,
 "nbformat_minor": 5
}

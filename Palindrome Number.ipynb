{
 "cells": [
  {
   "cell_type": "code",
   "execution_count": 70,
   "id": "b3872bc5",
   "metadata": {},
   "outputs": [
    {
     "data": {
      "text/plain": [
       "False"
      ]
     },
     "execution_count": 70,
     "metadata": {},
     "output_type": "execute_result"
    }
   ],
   "source": [
    "class Solution:\n",
    "    def isPalindrome(self, x: int) -> bool:\n",
    "        string = str(x)\n",
    "        y = string[::-1]\n",
    "        if y == string:\n",
    "            return True\n",
    "        else:\n",
    "            return False\n",
    "\n",
    "Solution().isPalindrome(x=-55)"
   ]
  },
  {
   "cell_type": "code",
   "execution_count": 77,
   "id": "1e1c1815",
   "metadata": {},
   "outputs": [
    {
     "data": {
      "text/plain": [
       "True"
      ]
     },
     "execution_count": 77,
     "metadata": {},
     "output_type": "execute_result"
    }
   ],
   "source": [
    "## One line version of previous code\n",
    "class Solution:\n",
    "    def isPalindrome(self,x: int) -> bool:\n",
    "        return str(x) == str(x)[::-1]\n",
    "    \n",
    "Solution().isPalindrome(x=15551)"
   ]
  }
 ],
 "metadata": {
  "kernelspec": {
   "display_name": "base",
   "language": "python",
   "name": "python3"
  },
  "language_info": {
   "codemirror_mode": {
    "name": "ipython",
    "version": 3
   },
   "file_extension": ".py",
   "mimetype": "text/x-python",
   "name": "python",
   "nbconvert_exporter": "python",
   "pygments_lexer": "ipython3",
   "version": "3.12.7"
  }
 },
 "nbformat": 4,
 "nbformat_minor": 5
}

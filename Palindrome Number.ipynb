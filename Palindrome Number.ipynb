{
 "cells": [
  {
   "cell_type": "markdown",
   "id": "ac4a05e0",
   "metadata": {},
   "source": [
    "Given an integer x, return true if x is a palindrome, and false otherwise.\n",
    "\n",
    "Example 1:\n",
    "\n",
    "Input: x = 121\n",
    "Output: true\n",
    "Explanation: 121 reads as 121 from left to right and from right to left.\n",
    "Example 2:\n",
    "\n",
    "Input: x = -121\n",
    "Output: false\n",
    "Explanation: From left to right, it reads -121. From right to left, it becomes 121-. Therefore it is not a palindrome.\n",
    "Example 3:\n",
    "\n",
    "Input: x = 10\n",
    "Output: false\n",
    "Explanation: Reads 01 from right to left. Therefore it is not a palindrome.\n",
    " \n",
    "\n",
    "Constraints:\n",
    "\n",
    "-231 <= x <= 231 - 1\n",
    " \n",
    "\n",
    "Follow up: Could you solve it without converting the integer to a string?"
   ]
  },
  {
   "cell_type": "code",
   "execution_count": 70,
   "id": "b3872bc5",
   "metadata": {},
   "outputs": [
    {
     "data": {
      "text/plain": [
       "False"
      ]
     },
     "execution_count": 70,
     "metadata": {},
     "output_type": "execute_result"
    }
   ],
   "source": [
    "class Solution:\n",
    "    def isPalindrome(self, x: int) -> bool:\n",
    "        string = str(x)\n",
    "        y = string[::-1]\n",
    "        if y == string:\n",
    "            return True\n",
    "        else:\n",
    "            return False\n",
    "\n",
    "Solution().isPalindrome(x=-55)"
   ]
  },
  {
   "cell_type": "code",
   "execution_count": 77,
   "id": "1e1c1815",
   "metadata": {},
   "outputs": [
    {
     "data": {
      "text/plain": [
       "True"
      ]
     },
     "execution_count": 77,
     "metadata": {},
     "output_type": "execute_result"
    }
   ],
   "source": [
    "## One line version of previous code\n",
    "class Solution:\n",
    "    def isPalindrome(self,x: int) -> bool:\n",
    "        return str(x) == str(x)[::-1]\n",
    "    \n",
    "Solution().isPalindrome(x=15551)"
   ]
  },
  {
   "cell_type": "code",
   "execution_count": 6,
   "id": "a1fcd668",
   "metadata": {},
   "outputs": [
    {
     "data": {
      "text/plain": [
       "True"
      ]
     },
     "execution_count": 6,
     "metadata": {},
     "output_type": "execute_result"
    }
   ],
   "source": [
    "# Using no string\n",
    "class Solution:\n",
    "    def isPalindrome2(self, x=int) -> bool:\n",
    "        if x < 0:\n",
    "            return False\n",
    "        num = x\n",
    "        reverse_x = 0\n",
    "        while num != 0:\n",
    "            reverse_x += num % 10\n",
    "            num = num // 10\n",
    "            reverse_x = reverse_x * 10\n",
    "        \n",
    "        reverse_x = int(reverse_x / 10)\n",
    "\n",
    "        return reverse_x == x\n",
    "    \n",
    "Solution().isPalindrome2(x=12221)"
   ]
  }
 ],
 "metadata": {
  "kernelspec": {
   "display_name": "base",
   "language": "python",
   "name": "python3"
  },
  "language_info": {
   "codemirror_mode": {
    "name": "ipython",
    "version": 3
   },
   "file_extension": ".py",
   "mimetype": "text/x-python",
   "name": "python",
   "nbconvert_exporter": "python",
   "pygments_lexer": "ipython3",
   "version": "3.12.7"
  }
 },
 "nbformat": 4,
 "nbformat_minor": 5
}
